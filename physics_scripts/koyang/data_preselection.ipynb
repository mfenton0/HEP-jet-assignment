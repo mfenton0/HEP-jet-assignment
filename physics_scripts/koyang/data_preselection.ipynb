{
 "cells": [
  {
   "cell_type": "code",
   "execution_count": 1,
   "metadata": {},
   "outputs": [],
   "source": [
    "import h5py\n",
    "from tqdm import tqdm\n",
    "import os\n",
    "import matplotlib.pyplot as plt\n",
    "import numpy as np\n",
    "import collections"
   ]
  },
  {
   "cell_type": "code",
   "execution_count": 74,
   "metadata": {},
   "outputs": [],
   "source": [
    "\"\"\"\n",
    "The event must contain exactly one reconstructed charged lepton, with ET > 25 GeV for electrons and pT > 25 GeV for muons\n",
    "\"\"\"\n",
    "def lepton_selection(f, tot): \n",
    "    electron_passed = np.logical_and(f['lepton_features/pid'][:] == 11, f['lepton_features/mass'][:]**2+f['lepton_features/pt'][:]**2 > 25**2)\n",
    "    muon_passed = np.logical_and(f['lepton_features/pid'][:] == 13, f['lepton_features/pt'][:] > 25)\n",
    "    passed = np.logical_or(electron_passed, muon_passed)\n",
    "    tot = np.logical_and(tot, passed)\n",
    "    return tot\n",
    "\n",
    "\"\"\"\n",
    "In the tt¯ → muon + jets channel, MET > 20 GeV and MET + mTW > 60 GeV.\n",
    "In the tt¯ → electron + jets channel, MET > 30 GeV and mTW > 30 GeV.\n",
    "mTW = sqrt(2pT,l*MET*(1-cosphi(l,MET)))\n",
    "\"\"\"\n",
    "def sec_selection(f, tot):\n",
    "    electron_passed = np.all([f['lepton_features/pid'][:] == 11, f['met_features/MET'][:].reshape(-1) > 20,\n",
    "                            f['met_features/MET'][:].reshape(-1)+np.sqrt(2*f['lepton_features/pt'][:]*f['met_features/MET'][:].reshape(-1)*\n",
    "                            (1-np.cos(f['lepton_features/phi'][:]-f['met_features/phi'][:].reshape(-1)))) > 60], axis=0)\n",
    "    muon_passed = np.all([f['lepton_features/pid'][:] == 13, f['met_features/MET'][:].reshape(-1) > 30,\n",
    "                           np.sqrt(2*f['lepton_features/pt'][:]*f['met_features/MET'][:].reshape(-1)*\n",
    "                            (1-np.cos(f['lepton_features/phi'][:]-f['met_features/phi'][:].reshape(-1)))) > 30], axis=0)\n",
    "    passed = np.logical_or(electron_passed, muon_passed)\n",
    "    tot = np.logical_and(tot, passed)\n",
    "    return tot\n",
    "\n",
    "\"\"\"\n",
    "The presence of at least four jets with pT > 25 GeV and |η| < 2.5\n",
    "\"\"\"\n",
    "def four_jet_selection(f, tot):\n",
    "    passed = np.count_nonzero(np.logical_and(f['jet_features/pt'][:]>2.5, np.abs(f['jet_features/eta'][:])<2.5), axis=1) >= 4\n",
    "    tot = np.logical_and(tot, passed)\n",
    "    return tot\n",
    "\n",
    "\"\"\"\n",
    "Exactly two b-tagged jets\n",
    "\"\"\"\n",
    "def two_b_tagged_jets(f, tot):\n",
    "    passed = np.count_nonzero(f['jet_features/btag'][:] == 1, axis=1) == 2\n",
    "    tot = np.logical_and(tot, passed)\n",
    "    return tot"
   ]
  },
  {
   "cell_type": "code",
   "execution_count": 79,
   "metadata": {},
   "outputs": [
    {
     "name": "stdout",
     "output_type": "stream",
     "text": [
      "event_record_topMass_lep_incl_CMS_jetR05\n",
      "event_record_top_lep_incl_CMS_jetR05_selected10M_BarcodeFixed\n",
      "event_record_ttH_lep_CMS_jetR05_sel10M\n",
      "event_record_ttbb_lep_incl_CMS_jetR05_bPt20\n"
     ]
    }
   ],
   "source": [
    "!ls ./Data"
   ]
  },
  {
   "cell_type": "code",
   "execution_count": 84,
   "metadata": {},
   "outputs": [
    {
     "name": "stderr",
     "output_type": "stream",
     "text": [
      "100%|██████████| 200/200 [00:02<00:00, 99.93it/s] \n"
     ]
    }
   ],
   "source": [
    "directory = \"./Data/event_record_ttbb_lep_incl_CMS_jetR05_bPt20\"\n",
    "jet_features_mass = []\n",
    "cutflow = collections.defaultdict(int)\n",
    "\n",
    "for filename in tqdm(os.listdir(directory)):\n",
    "    f = os.path.join(directory, filename)\n",
    "    if os.path.isfile(f):\n",
    "        with h5py.File(f, \"r\") as h5py_file:\n",
    "            tot = [True] * len(h5py_file['lepton_features/pid'][:])\n",
    "            cutflow['beginning'] += len(h5py_file['lepton_features/pid'][:])\n",
    "            tot = lepton_selection(h5py_file, tot)\n",
    "            cutflow['lepton_selection_passed'] += np.count_nonzero(tot)\n",
    "            tot = sec_selection(h5py_file, tot)\n",
    "            cutflow['sec_selection_passed'] += np.count_nonzero(tot)\n",
    "            tot = four_jet_selection(h5py_file, tot)\n",
    "            cutflow['four_jet_selection_passed'] += np.count_nonzero(tot)\n",
    "            tot = two_b_tagged_jets(h5py_file, tot)\n",
    "            cutflow['two_b_tagged_jets_passed'] += np.count_nonzero(tot)\n"
   ]
  },
  {
   "cell_type": "code",
   "execution_count": 85,
   "metadata": {},
   "outputs": [
    {
     "data": {
      "text/plain": [
       "defaultdict(int,\n",
       "            {'beginning': 633414,\n",
       "             'lepton_selection_passed': 363777,\n",
       "             'sec_selection_passed': 252838,\n",
       "             'four_jet_selection_passed': 252838,\n",
       "             'two_b_tagged_jets_passed': 112026})"
      ]
     },
     "execution_count": 85,
     "metadata": {},
     "output_type": "execute_result"
    }
   ],
   "source": [
    "cutflow"
   ]
  },
  {
   "cell_type": "code",
   "execution_count": null,
   "metadata": {},
   "outputs": [],
   "source": []
  }
 ],
 "metadata": {
  "interpreter": {
   "hash": "31f2aee4e71d21fbe5cf8b01ff0e069b9275f58929596ceb00d14d90e3e16cd6"
  },
  "kernelspec": {
   "display_name": "Python 3.6.9 64-bit",
   "language": "python",
   "name": "python3"
  },
  "language_info": {
   "codemirror_mode": {
    "name": "ipython",
    "version": 3
   },
   "file_extension": ".py",
   "mimetype": "text/x-python",
   "name": "python",
   "nbconvert_exporter": "python",
   "pygments_lexer": "ipython3",
   "version": "3.8.10"
  },
  "orig_nbformat": 4
 },
 "nbformat": 4,
 "nbformat_minor": 2
}

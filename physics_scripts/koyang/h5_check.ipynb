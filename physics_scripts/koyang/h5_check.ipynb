{
 "cells": [
  {
   "cell_type": "code",
   "execution_count": 2,
   "metadata": {},
   "outputs": [],
   "source": [
    "import uproot\n",
    "import h5py\n",
    "import numpy as np\n",
    "import awkward as ak\n",
    "from tqdm import tqdm"
   ]
  },
  {
   "cell_type": "code",
   "execution_count": 5,
   "metadata": {},
   "outputs": [
    {
     "name": "stdout",
     "output_type": "stream",
     "text": [
      "jet_features\n",
      "jet_features/barcode\n",
      "jet_features/btag\n",
      "jet_features/charge\n",
      "jet_features/eta\n",
      "jet_features/event\n",
      "jet_features/mass\n",
      "jet_features/num_of_jets\n",
      "jet_features/phi\n",
      "jet_features/pt\n",
      "lepton_features\n",
      "lepton_features/charge\n",
      "lepton_features/eta\n",
      "lepton_features/mass\n",
      "lepton_features/phi\n",
      "lepton_features/pid\n",
      "lepton_features/pt\n",
      "met_features\n",
      "met_features/MET\n",
      "met_features/eta\n",
      "met_features/phi\n",
      "met_features/sumet\n",
      "neutrino_eta\n",
      "neutrino_eta/spanet\n",
      "neutrino_eta/target\n",
      "parton_features\n",
      "parton_features/eta\n",
      "parton_features/masks\n",
      "parton_features/mass\n",
      "parton_features/parton_barcode\n",
      "parton_features/pdgid\n",
      "parton_features/phi\n",
      "parton_features/pt\n",
      "spanet\n",
      "spanet/left_target\n",
      "spanet/left_target/b\n",
      "spanet/left_target/detection\n",
      "spanet/left_target/mask\n",
      "spanet/right_target\n",
      "spanet/right_target/b\n",
      "spanet/right_target/detection\n",
      "spanet/right_target/mask\n",
      "spanet/right_target/q1\n",
      "spanet/right_target/q2\n",
      "target\n",
      "target/left_target\n",
      "target/left_target/b\n",
      "target/left_target/lepton\n",
      "target/left_target/mask\n",
      "target/left_target/neutrino\n",
      "target/right_target\n",
      "target/right_target/b\n",
      "target/right_target/mask\n",
      "target/right_target/q1\n",
      "target/right_target/q2\n",
      "<HDF5 dataset \"mass\": shape (500000, 15), type \"<f4\">\n"
     ]
    }
   ],
   "source": [
    "def printattr(name, object):\n",
    "    print(name)\n",
    "\n",
    "h5py_file =  h5py.File('./ttbar_sm_with_spanet_with_eta.h5', \"r\")\n",
    "h5py_file.visititems(printattr)\n",
    "print(h5py_file['jet_features/mass'])"
   ]
  },
  {
   "cell_type": "code",
   "execution_count": null,
   "metadata": {},
   "outputs": [],
   "source": []
  }
 ],
 "metadata": {
  "kernelspec": {
   "display_name": "Python 3.8.10 64-bit",
   "language": "python",
   "name": "python3"
  },
  "language_info": {
   "codemirror_mode": {
    "name": "ipython",
    "version": 3
   },
   "file_extension": ".py",
   "mimetype": "text/x-python",
   "name": "python",
   "nbconvert_exporter": "python",
   "pygments_lexer": "ipython3",
   "version": "3.8.10"
  },
  "orig_nbformat": 4,
  "vscode": {
   "interpreter": {
    "hash": "31f2aee4e71d21fbe5cf8b01ff0e069b9275f58929596ceb00d14d90e3e16cd6"
   }
  }
 },
 "nbformat": 4,
 "nbformat_minor": 2
}

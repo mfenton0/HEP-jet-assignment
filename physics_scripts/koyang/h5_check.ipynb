{
 "cells": [
  {
   "cell_type": "code",
   "execution_count": 12,
   "metadata": {},
   "outputs": [],
   "source": [
    "import numpy as np\n",
    "import matplotlib.pyplot as plt\n",
    "import h5py\n",
    "import pandas as pd\n",
    "from tqdm import tqdm\n",
    "import os\n",
    "from collections import Counter, defaultdict"
   ]
  },
  {
   "cell_type": "code",
   "execution_count": 2,
   "metadata": {},
   "outputs": [
    {
     "name": "stderr",
     "output_type": "stream",
     "text": [
      "100%|██████████| 9627/9627 [00:10<00:00, 927.41it/s]\n"
     ]
    }
   ],
   "source": [
    "directory = \"./event_record_topMass_lep_incl_CMS_jetR05/\"\n",
    "top_mass = Counter()\n",
    "\n",
    "for filename in tqdm(os.listdir(directory)):\n",
    "    f = os.path.join(directory, filename)\n",
    "    if os.path.isfile(f):\n",
    "        with h5py.File(f, \"r\") as h5py_file:\n",
    "            top_mass += Counter(h5py_file['event_features/mt'][:])"
   ]
  },
  {
   "cell_type": "code",
   "execution_count": 3,
   "metadata": {},
   "outputs": [
    {
     "data": {
      "text/plain": [
       "Counter({169.7: 112023,\n",
       "         168.8: 127036,\n",
       "         169.9: 128795,\n",
       "         172.6: 131820,\n",
       "         165.8: 123076,\n",
       "         171.0: 130030,\n",
       "         170.8: 129891,\n",
       "         169.2: 128292,\n",
       "         168.3: 125688,\n",
       "         173.7: 115729,\n",
       "         165.9: 123579,\n",
       "         170.0: 128449,\n",
       "         172.1: 132557,\n",
       "         166.2: 123214,\n",
       "         166.8: 124232,\n",
       "         169.6: 125774,\n",
       "         173.3: 133646,\n",
       "         172.9: 133237,\n",
       "         168.2: 126205,\n",
       "         169.4: 128338,\n",
       "         165.5: 123176,\n",
       "         170.2: 129226,\n",
       "         167.3: 124061,\n",
       "         166.1: 124160,\n",
       "         169.5: 128195,\n",
       "         171.5: 131118,\n",
       "         167.4: 125109,\n",
       "         172.2: 132528,\n",
       "         171.8: 131926,\n",
       "         171.4: 131476,\n",
       "         172.7: 114460,\n",
       "         168.5: 126999,\n",
       "         173.0: 133418,\n",
       "         167.5: 125365,\n",
       "         171.6: 130799,\n",
       "         168.0: 126745,\n",
       "         167.0: 125020,\n",
       "         174.2: 134672,\n",
       "         173.4: 134320,\n",
       "         169.0: 128284,\n",
       "         174.7: 117923,\n",
       "         166.0: 123703,\n",
       "         168.1: 126815,\n",
       "         167.7: 109170,\n",
       "         166.4: 124353,\n",
       "         169.8: 129075,\n",
       "         173.9: 134672,\n",
       "         173.8: 134656,\n",
       "         170.4: 129857,\n",
       "         171.9: 131632,\n",
       "         171.7: 113562,\n",
       "         166.7: 106707,\n",
       "         168.7: 109059,\n",
       "         169.3: 126867,\n",
       "         170.7: 113415,\n",
       "         175.0: 135885,\n",
       "         173.6: 133016,\n",
       "         170.6: 128948,\n",
       "         167.1: 125608,\n",
       "         167.6: 125455,\n",
       "         174.3: 135090,\n",
       "         171.3: 129409,\n",
       "         173.2: 133604,\n",
       "         171.1: 130713,\n",
       "         172.3: 132076,\n",
       "         165.4: 121837,\n",
       "         172.0: 132168,\n",
       "         165.0: 121881,\n",
       "         172.8: 132865,\n",
       "         166.3: 123913,\n",
       "         168.4: 126825,\n",
       "         168.9: 128021,\n",
       "         170.3: 126964,\n",
       "         166.9: 124679,\n",
       "         173.1: 134239,\n",
       "         174.9: 135536,\n",
       "         174.0: 134303,\n",
       "         167.8: 126028,\n",
       "         172.5: 74313,\n",
       "         167.2: 124989,\n",
       "         174.8: 135528,\n",
       "         171.2: 130872,\n",
       "         169.1: 128066,\n",
       "         170.9: 130406,\n",
       "         174.5: 135902,\n",
       "         172.4: 131675,\n",
       "         168.6: 126804,\n",
       "         165.3: 122874,\n",
       "         165.1: 122473,\n",
       "         166.6: 37566,\n",
       "         174.1: 134826,\n",
       "         170.1: 129563,\n",
       "         165.2: 123163,\n",
       "         174.4: 135160,\n",
       "         166.5: 124013,\n",
       "         173.5: 75168,\n",
       "         167.9: 126848,\n",
       "         170.5: 130204,\n",
       "         165.7: 105721,\n",
       "         165.6: 35534,\n",
       "         174.6: 2780})"
      ]
     },
     "execution_count": 3,
     "metadata": {},
     "output_type": "execute_result"
    }
   ],
   "source": [
    "top_mass"
   ]
  },
  {
   "cell_type": "code",
   "execution_count": 4,
   "metadata": {},
   "outputs": [
    {
     "data": {
      "image/png": "[encoded data removed]",
      "text/plain": [
       "<Figure size 432x288 with 1 Axes>"
      ]
     },
     "metadata": {
      "needs_background": "light"
     },
     "output_type": "display_data"
    }
   ],
   "source": [
    "plt.bar(top_mass.keys(), top_mass.values())\n",
    "plt.xlabel('top mass (GeV)')\n",
    "plt.ylabel('event number')\n",
    "plt.show()"
   ]
  },
  {
   "cell_type": "code",
   "execution_count": 5,
   "metadata": {},
   "outputs": [
    {
     "name": "stdout",
     "output_type": "stream",
     "text": [
      "event_features\n",
      "event_features/mt\n",
      "event_features/mx\n",
      "jet_features\n",
      "jet_features/barcode\n",
      "jet_features/btag\n",
      "jet_features/charge\n",
      "jet_features/eta\n",
      "jet_features/event\n",
      "jet_features/mass\n",
      "jet_features/num_of_jets\n",
      "jet_features/phi\n",
      "jet_features/pt\n",
      "lepton_features\n",
      "lepton_features/charge\n",
      "lepton_features/eta\n",
      "lepton_features/mass\n",
      "lepton_features/phi\n",
      "lepton_features/pid\n",
      "lepton_features/pt\n",
      "met_features\n",
      "met_features/MET\n",
      "met_features/eta\n",
      "met_features/phi\n",
      "met_features/sumet\n",
      "parton_features\n",
      "parton_features/eta\n",
      "parton_features/masks\n",
      "parton_features/mass\n",
      "parton_features/parton_barcode\n",
      "parton_features/pdgid\n",
      "parton_features/phi\n",
      "parton_features/pt\n",
      "target\n",
      "target/left_target\n",
      "target/left_target/b\n",
      "target/left_target/lepton\n",
      "target/left_target/mask\n",
      "target/left_target/neutrino\n",
      "target/right_target\n",
      "target/right_target/b\n",
      "target/right_target/mask\n",
      "target/right_target/q1\n",
      "target/right_target/q2\n"
     ]
    }
   ],
   "source": [
    "def print_attrs(name):\n",
    "    print(name)\n",
    "\n",
    "filename = \"./event_record_topMass_lep_incl_CMS_jetR05/event_record_top165p0_lep_incl_CMS_jetR05_1_1.h5\"\n",
    "f = h5py.File(filename, 'r')\n",
    "f.visit(print_attrs)a\n"
   ]
  },
  {
   "cell_type": "code",
   "execution_count": 13,
   "metadata": {},
   "outputs": [
    {
     "name": "stderr",
     "output_type": "stream",
     "text": [
      " 51%|█████▏    | 4954/9627 [00:05<00:05, 920.26it/s]\n"
     ]
    },
    {
     "ename": "KeyboardInterrupt",
     "evalue": "",
     "output_type": "error",
     "traceback": [
      "\u001b[0;31m---------------------------------------------------------------------------\u001b[0m",
      "\u001b[0;31mKeyboardInterrupt\u001b[0m                         Traceback (most recent call last)",
      "\u001b[1;32m/home/SPANET/HEP-jet-assignment/physics_scripts/koyang/h5_check.ipynb Cell 6\u001b[0m in \u001b[0;36m<cell line: 4>\u001b[0;34m()\u001b[0m\n\u001b[1;32m      <a href='vscode-notebook-cell://attached-container%2B7b22636f6e7461696e65724e616d65223a222f4b6f5f48455033222c2273657474696e6773223a7b22686f7374223a227373683a2f2f3134302e3131342e39342e323430227d7d/home/SPANET/HEP-jet-assignment/physics_scripts/koyang/h5_check.ipynb#W4sdnNjb2RlLXJlbW90ZQ%3D%3D?line=5'>6</a>\u001b[0m \u001b[39mif\u001b[39;00m os\u001b[39m.\u001b[39mpath\u001b[39m.\u001b[39misfile(f):\n\u001b[1;32m      <a href='vscode-notebook-cell://attached-container%2B7b22636f6e7461696e65724e616d65223a222f4b6f5f48455033222c2273657474696e6773223a7b22686f7374223a227373683a2f2f3134302e3131342e39342e323430227d7d/home/SPANET/HEP-jet-assignment/physics_scripts/koyang/h5_check.ipynb#W4sdnNjb2RlLXJlbW90ZQ%3D%3D?line=6'>7</a>\u001b[0m     \u001b[39mwith\u001b[39;00m h5py\u001b[39m.\u001b[39mFile(f, \u001b[39m\"\u001b[39m\u001b[39mr\u001b[39m\u001b[39m\"\u001b[39m) \u001b[39mas\u001b[39;00m h5py_file:\n\u001b[0;32m----> <a href='vscode-notebook-cell://attached-container%2B7b22636f6e7461696e65724e616d65223a222f4b6f5f48455033222c2273657474696e6773223a7b22686f7374223a227373683a2f2f3134302e3131342e39342e323430227d7d/home/SPANET/HEP-jet-assignment/physics_scripts/koyang/h5_check.ipynb#W4sdnNjb2RlLXJlbW90ZQ%3D%3D?line=7'>8</a>\u001b[0m         top_mass \u001b[39m+\u001b[39m\u001b[39m=\u001b[39m Counter(h5py_file[\u001b[39m'\u001b[39m\u001b[39mevent_features/mt\u001b[39m\u001b[39m'\u001b[39m][:])\n",
      "File \u001b[0;32mh5py/_objects.pyx:54\u001b[0m, in \u001b[0;36mh5py._objects.with_phil.wrapper\u001b[0;34m()\u001b[0m\n",
      "File \u001b[0;32mh5py/_objects.pyx:55\u001b[0m, in \u001b[0;36mh5py._objects.with_phil.wrapper\u001b[0;34m()\u001b[0m\n",
      "File \u001b[0;32m/usr/local/lib/python3.8/dist-packages/h5py/_hl/files.py:570\u001b[0m, in \u001b[0;36mFile.__exit__\u001b[0;34m(self, *args)\u001b[0m\n\u001b[1;32m    567\u001b[0m \u001b[39m@with_phil\u001b[39m\n\u001b[1;32m    568\u001b[0m \u001b[39mdef\u001b[39;00m \u001b[39m__exit__\u001b[39m(\u001b[39mself\u001b[39m, \u001b[39m*\u001b[39margs):\n\u001b[1;32m    569\u001b[0m     \u001b[39mif\u001b[39;00m \u001b[39mself\u001b[39m\u001b[39m.\u001b[39mid:\n\u001b[0;32m--> 570\u001b[0m         \u001b[39mself\u001b[39;49m\u001b[39m.\u001b[39;49mclose()\n",
      "File \u001b[0;32m/usr/local/lib/python3.8/dist-packages/h5py/_hl/files.py:552\u001b[0m, in \u001b[0;36mFile.close\u001b[0;34m(self)\u001b[0m\n\u001b[1;32m    546\u001b[0m \u001b[39mif\u001b[39;00m \u001b[39mself\u001b[39m\u001b[39m.\u001b[39mid\u001b[39m.\u001b[39mvalid:\n\u001b[1;32m    547\u001b[0m     \u001b[39m# We have to explicitly murder all open objects related to the file\u001b[39;00m\n\u001b[1;32m    548\u001b[0m \n\u001b[1;32m    549\u001b[0m     \u001b[39m# Close file-resident objects first, then the files.\u001b[39;00m\n\u001b[1;32m    550\u001b[0m     \u001b[39m# Otherwise we get errors in MPI mode.\u001b[39;00m\n\u001b[1;32m    551\u001b[0m     \u001b[39mself\u001b[39m\u001b[39m.\u001b[39mid\u001b[39m.\u001b[39m_close_open_objects(h5f\u001b[39m.\u001b[39mOBJ_LOCAL \u001b[39m|\u001b[39m \u001b[39m~\u001b[39mh5f\u001b[39m.\u001b[39mOBJ_FILE)\n\u001b[0;32m--> 552\u001b[0m     \u001b[39mself\u001b[39;49m\u001b[39m.\u001b[39;49mid\u001b[39m.\u001b[39;49m_close_open_objects(h5f\u001b[39m.\u001b[39;49mOBJ_LOCAL \u001b[39m|\u001b[39;49m h5f\u001b[39m.\u001b[39;49mOBJ_FILE)\n\u001b[1;32m    554\u001b[0m     \u001b[39mself\u001b[39m\u001b[39m.\u001b[39mid\u001b[39m.\u001b[39mclose()\n\u001b[1;32m    555\u001b[0m     _objects\u001b[39m.\u001b[39mnonlocal_close()\n",
      "\u001b[0;31mKeyboardInterrupt\u001b[0m: "
     ]
    }
   ],
   "source": [
    "directory = \"./event_record_topMass_lep_incl_CMS_jetR05/\"\n",
    "dic = defaultdict(lambda: np.array)\n",
    "target = ['lepton_pt', 'lepton_eta', 'lepton_cl_eta', 'lepton_phi', 'lepton_e', 'met_met', 'met_phi', 'sumet', '']\n",
    "\n",
    "for filename in tqdm(os.listdir(directory)):\n",
    "    f = os.path.join(directory, filename)\n",
    "    if os.path.isfile(f):\n",
    "        with h5py.File(f, \"r\") as h5py_file:\n",
    "            top_mass += Counter(h5py_file['event_features/mt'][:])"
   ]
  },
  {
   "cell_type": "code",
   "execution_count": null,
   "metadata": {},
   "outputs": [],
   "source": []
  }
 ],
 "metadata": {
  "interpreter": {
   "hash": "31f2aee4e71d21fbe5cf8b01ff0e069b9275f58929596ceb00d14d90e3e16cd6"
  },
  "kernelspec": {
   "display_name": "Python 3.6.9 64-bit",
   "language": "python",
   "name": "python3"
  },
  "language_info": {
   "codemirror_mode": {
    "name": "ipython",
    "version": 3
   },
   "file_extension": ".py",
   "mimetype": "text/x-python",
   "name": "python",
   "nbconvert_exporter": "python",
   "pygments_lexer": "ipython3",
   "version": "3.8.10"
  },
  "orig_nbformat": 4
 },
 "nbformat": 4,
 "nbformat_minor": 2
}

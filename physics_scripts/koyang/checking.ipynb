{
 "cells": [
  {
   "cell_type": "code",
   "execution_count": 2,
   "metadata": {},
   "outputs": [],
   "source": [
    "import uproot\n",
    "import h5py    \n",
    "import numpy as np\n",
    "import awkward as ak\n",
    "from tqdm import tqdm\n",
    "import h5py\n",
    "import matplotlib.pyplot as plt\n",
    "from scipy.stats import moyal, norm\n",
    "from scipy import optimize\n",
    "from collections import defaultdict"
   ]
  },
  {
   "cell_type": "code",
   "execution_count": 3,
   "metadata": {},
   "outputs": [],
   "source": [
    "# Sum of a Landau distribution and a gaussian distribution, currently not use.\n",
    "def langau(x, lan_loc, lan_scale, gau_loc, gau_scale):\n",
    "    lan_y = (x-lan_loc)/lan_scale\n",
    "    gau_y = (x-gau_loc)/gau_scale\n",
    "    return np.exp(-(lan_y+np.exp(-lan_y))/2)/np.sqrt(2*np.pi)/lan_scale + np.exp(-gau_y**2/2)/np.sqrt(2*np.pi)/gau_scale"
   ]
  },
  {
   "cell_type": "code",
   "execution_count": 4,
   "metadata": {},
   "outputs": [],
   "source": [
    "# Load the data from the root files created by the KLFitter. klf_param8 is the best reconstructed top mass fitted.\n",
    "dic = defaultdict(list)\n",
    "for jet_number in range(4, 9):\n",
    "    file = uproot.open(\"/KLFitter/build/top-{}jets-output.root\".format(jet_number))\n",
    "    max_index = np.argmax(np.stack(file['KLFitter_output']['klf_loglikelihood'].arrays(library=\"np\")['klf_loglikelihood']), axis=1, keepdims=True)\n",
    "    for target in ['klf_lquark1_pt', 'klf_lquark1_eta', 'klf_lquark1_phi', 'klf_lquark1_e',\n",
    "                   'klf_lquark2_pt', 'klf_lquark2_eta', 'klf_lquark2_phi', 'klf_lquark2_e', 'klf_param8', 'klf_bhad_pt', 'klf_blep_pt']:\n",
    "        arr = np.stack(file['KLFitter_output'][target].arrays(library=\"np\")[target])\n",
    "        arr = np.take_along_axis(arr, max_index, axis=1).flatten()\n",
    "        dic[target].extend(arr)\n",
    "\n",
    "for key in dic: dic[key] = np.array(dic[key])"
   ]
  },
  {
   "cell_type": "code",
   "execution_count": 5,
   "metadata": {},
   "outputs": [],
   "source": [
    "#Reconstruct the hadronic W mass and the Rbq.\n",
    "\n",
    "# px = pt*cos(phi)\n",
    "# py = pt*sin(phi)\n",
    "# pz = pt*sinh(eta)\n",
    "dic['px1'] = dic['klf_lquark1_pt']*np.cos(dic['klf_lquark1_phi'])\n",
    "dic['py1'] = dic['klf_lquark1_pt']*np.sin(dic['klf_lquark1_phi'])\n",
    "dic['pz1'] = dic['klf_lquark1_pt']*np.sinh(dic['klf_lquark1_eta'])\n",
    "\n",
    "dic['px2'] = dic['klf_lquark2_pt']*np.cos(dic['klf_lquark2_phi'])\n",
    "dic['py2'] = dic['klf_lquark2_pt']*np.sin(dic['klf_lquark2_phi'])\n",
    "dic['pz2'] = dic['klf_lquark2_pt']*np.sinh(dic['klf_lquark2_eta'])\n",
    "\n",
    "# M = sqrt((E1+E2)**2 - (px1+px2)**2 - (py1+py2)**2 - (pz1+pz2)**2)\n",
    "dic['reconstructed_W_mass'] = np.sqrt((dic['klf_lquark1_e']+dic['klf_lquark2_e'])**2\n",
    "                 - (dic['px1']+dic['px2'])**2\n",
    "                 - (dic['py1']+dic['py2'])**2\n",
    "                 - (dic['pz1']+dic['pz2'])**2)\n",
    "\n",
    "\n",
    "\"\"\"\n",
    "For events with two or more b-tagged jets, R reco bq is defined as the scalar sum of the transverse momenta of the b-tagged jets assigned\n",
    "to the leptonically and hadronically decaying top quarks divided by the scalar sum of the transverse\n",
    "momenta of the two jets associated with the hadronic W boson decay.\n",
    "\"\"\"\n",
    "\n",
    "dic['reconstructed_R_bq'] = (dic['klf_bhad_pt'] + dic['klf_blep_pt'])/(dic['klf_lquark1_pt'] + dic['klf_lquark2_pt'])"
   ]
  },
  {
   "cell_type": "code",
   "execution_count": 6,
   "metadata": {},
   "outputs": [],
   "source": [
    "\"\"\"\n",
    "cuts\n",
    "130 < reco_m_top < 220\n",
    "55 < reco_m_W < 110\n",
    "0.3 < reco_R_bq < 3.0\n",
    "\"\"\"\n",
    "\n",
    "cut1 = np.logical_and(dic['klf_param8'] < 220, dic['klf_param8'] > 130)\n",
    "cut2 = np.logical_and(dic['reconstructed_W_mass'] < 110, dic['reconstructed_W_mass'] > 55)\n",
    "cut3 = np.logical_and(dic['reconstructed_R_bq'] < 3.0, dic['reconstructed_R_bq'] > 0.3)\n",
    "cuts = np.logical_and(np.logical_and(cut1, cut2), cut3)"
   ]
  },
  {
   "cell_type": "code",
   "execution_count": 7,
   "metadata": {},
   "outputs": [
    {
     "name": "stdout",
     "output_type": "stream",
     "text": [
      "Events before cut:  643622\n",
      "reco_m_top cut:  430124\n",
      "reco_m_W cut:  557831\n",
      "reco_R_bq cut:  620164\n",
      "cuts 404087\n"
     ]
    }
   ],
   "source": [
    "# The number of events that pass through the cut.\n",
    "print('Events before cut: ', len(dic['klf_param8']))\n",
    "print('reco_m_top cut: ', np.count_nonzero(cut1))\n",
    "print('reco_m_W cut: ', np.count_nonzero(cut2))\n",
    "print('reco_R_bq cut: ', np.count_nonzero(cut3))\n",
    "print('cuts', np.count_nonzero(cuts))\n",
    "for key in dic: dic[key] = dic[key][cuts]"
   ]
  },
  {
   "cell_type": "code",
   "execution_count": 8,
   "metadata": {},
   "outputs": [],
   "source": [
    "colors = ['green', 'red', 'red', 'green']"
   ]
  },
  {
   "cell_type": "code",
   "execution_count": 9,
   "metadata": {},
   "outputs": [
    {
     "data": {
      "image/png": "[encoded data removed]",
      "text/plain": [
       "<Figure size 432x288 with 1 Axes>"
      ]
     },
     "metadata": {
      "needs_background": "light"
     },
     "output_type": "display_data"
    }
   ],
   "source": [
    "n, bins, patches = plt.hist(dic['klf_param8'],bins=90, density=True, histtype='step', label='theory')\n",
    "plt.xlim(130, 220)\n",
    "plt.xlabel('reco top mass (GeV)')\n",
    "plt.ylabel('normalized event/GeV')\n",
    "plt.legend()\n",
    "plt.show()"
   ]
  },
  {
   "cell_type": "code",
   "execution_count": 24,
   "metadata": {},
   "outputs": [
    {
     "data": {
      "text/plain": [
       "170.49989538484905"
      ]
     },
     "execution_count": 24,
     "metadata": {},
     "output_type": "execute_result"
    }
   ],
   "source": []
  },
  {
   "cell_type": "code",
   "execution_count": 25,
   "metadata": {},
   "outputs": [
    {
     "name": "stdout",
     "output_type": "stream",
     "text": [
      "Best fit top mass:  170.49989538484905\n",
      "156.49995472847436\n",
      "157.499950489644\n",
      "158.4999462508136\n",
      "159.49994201198322\n",
      "160.49993777315285\n",
      "161.49993353432245\n",
      "162.49992929549208\n",
      "163.4999250566617\n",
      "164.4999208178313\n",
      "165.49991657900094\n",
      "166.49991234017057\n",
      "167.4999081013402\n",
      "168.49990386250983\n",
      "169.49989962367943\n",
      "170.49989538484905\n",
      "171.49989114601868\n",
      "172.49988690718828\n",
      "173.4998826683579\n",
      "174.49987842952754\n",
      "175.49987419069714\n",
      "176.49986995186677\n",
      "177.4998657130364\n",
      "178.49986147420603\n",
      "179.49985723537566\n",
      "180.49985299654526\n",
      "181.4998487577149\n",
      "182.49984451888452\n",
      "183.49984028005412\n",
      "184.49983604122374\n"
     ]
    },
    {
     "data": {
      "image/png": "[encoded data removed]",
      "text/plain": [
       "<Figure size 432x288 with 1 Axes>"
      ]
     },
     "metadata": {
      "needs_background": "light"
     },
     "output_type": "display_data"
    }
   ],
   "source": [
    "loglikelihood = -2*np.log(n)\n",
    "plt.scatter(bins[:90]+0.5, loglikelihood)\n",
    "plt.axhline(min(loglikelihood)+1, c='r')\n",
    "print('Best fit top mass: ', bins[np.argmin(loglikelihood)]+0.5)\n",
    "for i, value in enumerate(loglikelihood):\n",
    "    if value < min(loglikelihood)+1:\n",
    "        print(bins[i]+0.5)\n",
    "plt.xlabel('reco top mass (GeV)')\n",
    "plt.ylabel('-2*ln(normalized event/GeV)')\n",
    "plt.show()"
   ]
  },
  {
   "cell_type": "code",
   "execution_count": 14,
   "metadata": {},
   "outputs": [],
   "source": [
    "# plt.scatter(bins[:90]+0.5, np.log(n))\n",
    "# plt.axhline(max(np.log(n))-0.5, c='r')\n",
    "# for i, value in enumerate(np.log(n)):\n",
    "#     if value > max(np.log(n))-0.5:\n",
    "#         print(bins[i]+0.5)\n",
    "# plt.xlabel('reco top mass (GeV)')\n",
    "# plt.ylabel('ln(normalized event/GeV)')\n",
    "# plt.legend()\n",
    "# plt.show()"
   ]
  },
  {
   "cell_type": "code",
   "execution_count": 11,
   "metadata": {},
   "outputs": [],
   "source": [
    "# plt.hist(dic['reconstructed_W_mass'], bins=100, density=True, histtype='step')\n",
    "# arr = sorted(dic['reconstructed_W_mass'])\n",
    "# for i, num in enumerate([2.28, 15.87, 84.23, 97.72]):\n",
    "#     value = arr[int(len(arr)*num/100)]\n",
    "#     print('precentage accumulated: ', num, 'value: ', value)\n",
    "#     plt.axvline(value, c=colors[i])\n",
    "# plt.xlim(55, 110)\n",
    "# plt.xlabel('reco hadronic W mass (GeV)')\n",
    "# plt.ylabel('normalized event/GeV')\n",
    "# plt.show()"
   ]
  },
  {
   "cell_type": "code",
   "execution_count": 12,
   "metadata": {},
   "outputs": [],
   "source": [
    "# plt.hist(dic['reconstructed_R_bq'], bins=100, density=True, histtype='step')\n",
    "# arr = sorted(dic['reconstructed_R_bq'])\n",
    "# for i, num in enumerate([2.28, 15.87, 84.23, 97.72]):\n",
    "#     value = arr[int(len(arr)*num/100)]\n",
    "#     print('precentage accumulated: ', num, 'value: ', value)\n",
    "#     plt.axvline(value, c=colors[i])\n",
    "# plt.xlim(0.3, 3.0)\n",
    "# plt.xlabel('reconstructed_R_bq')\n",
    "# plt.ylabel('normalized event/GeV')\n",
    "# plt.show()"
   ]
  },
  {
   "cell_type": "code",
   "execution_count": null,
   "metadata": {},
   "outputs": [],
   "source": []
  }
 ],
 "metadata": {
  "kernelspec": {
   "display_name": "Python 3.8.10 64-bit",
   "language": "python",
   "name": "python3"
  },
  "language_info": {
   "codemirror_mode": {
    "name": "ipython",
    "version": 3
   },
   "file_extension": ".py",
   "mimetype": "text/x-python",
   "name": "python",
   "nbconvert_exporter": "python",
   "pygments_lexer": "ipython3",
   "version": "3.8.10"
  },
  "orig_nbformat": 4,
  "vscode": {
   "interpreter": {
    "hash": "31f2aee4e71d21fbe5cf8b01ff0e069b9275f58929596ceb00d14d90e3e16cd6"
   }
  }
 },
 "nbformat": 4,
 "nbformat_minor": 2
}

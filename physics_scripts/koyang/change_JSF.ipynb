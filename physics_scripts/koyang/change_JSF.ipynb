{
 "cells": [
  {
   "cell_type": "code",
   "execution_count": 1,
   "id": "355af56e",
   "metadata": {},
   "outputs": [],
   "source": [
    "import h5py\n",
    "import numpy as np\n",
    "import matplotlib.pyplot as plt\n",
    "from collections import defaultdict\n",
    "from scipy import integrate, optimize\n",
    "from iminuit import Minuit\n",
    "from tqdm import tqdm\n",
    "from itertools import product\n",
    "from multiprocessing import Pool"
   ]
  },
  {
   "cell_type": "code",
   "execution_count": 2,
   "id": "93831b53",
   "metadata": {},
   "outputs": [],
   "source": [
    "JSF = 0.98\n",
    "mass = [170, 171, 172, 173, 174, 175, 176]\n",
    "for m in mass:\n",
    "    h5py_file1 = h5py.File(f'ttbar_testing_final_mass_variation_JSF=1.00/ttbar_testing_{m}_gev.h5', \"r\")\n",
    "    h5py_file2 = h5py.File(f'ttbar_testing_final_mass_variation_JSF={JSF}/ttbar_testing_{m}_gev.h5', \"r+\")\n",
    "    dataset = h5py_file2['jet_features/pt']\n",
    "    dataset[:] = h5py_file1['jet_features/pt'][:]*JSF\n",
    "    h5py_file2.close()"
   ]
  },
  {
   "cell_type": "code",
   "execution_count": 3,
   "id": "11b39918",
   "metadata": {},
   "outputs": [],
   "source": [
    "JSF = 1.02\n",
    "mass = [170, 171, 172, 173, 174, 175, 176]\n",
    "for m in mass:\n",
    "    h5py_file1 = h5py.File(f'ttbar_testing_final_mass_variation_JSF=1.00/ttbar_testing_{m}_gev.h5', \"r\")\n",
    "    h5py_file2 = h5py.File(f'ttbar_testing_final_mass_variation_JSF={JSF}/ttbar_testing_{m}_gev.h5', \"r+\")\n",
    "    dataset = h5py_file2['jet_features/pt']\n",
    "    dataset[:] = h5py_file1['jet_features/pt'][:]*JSF\n",
    "    h5py_file2.close()"
   ]
  },
  {
   "cell_type": "code",
   "execution_count": 4,
   "id": "6a71eec1",
   "metadata": {},
   "outputs": [
    {
     "data": {
      "text/plain": [
       "array([[204.74872 ,  60.93544 ,  60.931118, ...,   0.      ,   0.      ,\n",
       "          0.      ],\n",
       "       [268.50995 ,  62.778442,  30.559166, ...,   0.      ,   0.      ,\n",
       "          0.      ],\n",
       "       [143.35538 ,  99.752205,  83.05969 , ...,   0.      ,   0.      ,\n",
       "          0.      ],\n",
       "       ...,\n",
       "       [157.39824 , 125.97514 ,  93.636215, ...,   0.      ,   0.      ,\n",
       "          0.      ],\n",
       "       [ 69.09838 ,  45.86541 ,  37.97825 , ...,   0.      ,   0.      ,\n",
       "          0.      ],\n",
       "       [128.10052 ,  81.71694 ,  76.95326 , ...,   0.      ,   0.      ,\n",
       "          0.      ]], dtype=float32)"
      ]
     },
     "execution_count": 4,
     "metadata": {},
     "output_type": "execute_result"
    }
   ],
   "source": [
    "h5py_file1['jet_features/pt'][:]"
   ]
  },
  {
   "cell_type": "code",
   "execution_count": 7,
   "id": "006f99c6",
   "metadata": {},
   "outputs": [
    {
     "data": {
      "text/plain": [
       "array([[200.65375 ,  59.716732,  59.712498, ...,   0.      ,   0.      ,\n",
       "          0.      ],\n",
       "       [263.13974 ,  61.522873,  29.947983, ...,   0.      ,   0.      ,\n",
       "          0.      ],\n",
       "       [140.48827 ,  97.757164,  81.3985  , ...,   0.      ,   0.      ,\n",
       "          0.      ],\n",
       "       ...,\n",
       "       [154.25027 , 123.45564 ,  91.7635  , ...,   0.      ,   0.      ,\n",
       "          0.      ],\n",
       "       [ 67.716415,  44.9481  ,  37.218685, ...,   0.      ,   0.      ,\n",
       "          0.      ],\n",
       "       [125.53851 ,  80.0826  ,  75.4142  , ...,   0.      ,   0.      ,\n",
       "          0.      ]], dtype=float32)"
      ]
     },
     "execution_count": 7,
     "metadata": {},
     "output_type": "execute_result"
    }
   ],
   "source": [
    "h5py_file2 = h5py.File(f'ttbar_testing_final_mass_variation_JSF=0.98/ttbar_testing_{m}_gev.h5', \"r+\")\n",
    "h5py_file2['jet_features/pt'][:]"
   ]
  },
  {
   "cell_type": "code",
   "execution_count": 8,
   "id": "357e700b",
   "metadata": {},
   "outputs": [
    {
     "data": {
      "text/plain": [
       "array([[208.84369 ,  62.15415 ,  62.14974 , ...,   0.      ,   0.      ,\n",
       "          0.      ],\n",
       "       [273.88016 ,  64.03401 ,  31.17035 , ...,   0.      ,   0.      ,\n",
       "          0.      ],\n",
       "       [146.22249 , 101.747246,  84.72089 , ...,   0.      ,   0.      ,\n",
       "          0.      ],\n",
       "       ...,\n",
       "       [160.5462  , 128.49464 ,  95.508934, ...,   0.      ,   0.      ,\n",
       "          0.      ],\n",
       "       [ 70.48035 ,  46.78272 ,  38.737812, ...,   0.      ,   0.      ,\n",
       "          0.      ],\n",
       "       [130.66254 ,  83.35128 ,  78.492325, ...,   0.      ,   0.      ,\n",
       "          0.      ]], dtype=float32)"
      ]
     },
     "execution_count": 8,
     "metadata": {},
     "output_type": "execute_result"
    }
   ],
   "source": [
    "h5py_file2 = h5py.File(f'ttbar_testing_final_mass_variation_JSF=1.02/ttbar_testing_{m}_gev.h5', \"r+\")\n",
    "h5py_file2['jet_features/pt'][:]"
   ]
  },
  {
   "cell_type": "code",
   "execution_count": null,
   "id": "0f455978",
   "metadata": {},
   "outputs": [],
   "source": []
  }
 ],
 "metadata": {
  "kernelspec": {
   "display_name": "Python 3 (ipykernel)",
   "language": "python",
   "name": "python3"
  },
  "language_info": {
   "codemirror_mode": {
    "name": "ipython",
    "version": 3
   },
   "file_extension": ".py",
   "mimetype": "text/x-python",
   "name": "python",
   "nbconvert_exporter": "python",
   "pygments_lexer": "ipython3",
   "version": "3.8.10"
  }
 },
 "nbformat": 4,
 "nbformat_minor": 5
}

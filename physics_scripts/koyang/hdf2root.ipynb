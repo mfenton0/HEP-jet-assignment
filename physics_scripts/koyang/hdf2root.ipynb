{
 "cells": [
  {
   "cell_type": "code",
   "execution_count": 1,
   "metadata": {},
   "outputs": [],
   "source": [
    "import uproot\n",
    "import h5py\n",
    "import numpy as np\n",
    "import awkward as ak\n",
    "from tqdm import tqdm"
   ]
  },
  {
   "cell_type": "code",
   "execution_count": 2,
   "metadata": {},
   "outputs": [
    {
     "name": "stderr",
     "output_type": "stream",
     "text": [
      "  0%|          | 0/9627 [00:00<?, ?it/s]\n"
     ]
    },
    {
     "ename": "TypeError",
     "evalue": "Accessing a group is done with bytes or str,  not <class 'slice'>",
     "output_type": "error",
     "traceback": [
      "\u001b[0;31m---------------------------------------------------------------------------\u001b[0m",
      "\u001b[0;31mTypeError\u001b[0m                                 Traceback (most recent call last)",
      "\u001b[1;32m/home/SPANET/HEP-jet-assignment/physics_scripts/koyang/hdf2root.ipynb Cell 2\u001b[0m in \u001b[0;36m<cell line: 14>\u001b[0;34m()\u001b[0m\n\u001b[1;32m     <a href='vscode-notebook-cell://attached-container%2B7b22636f6e7461696e65724e616d65223a222f4b6f5f48455033222c2273657474696e6773223a7b22686f7374223a227373683a2f2f3134302e3131342e39342e323430227d7d/home/SPANET/HEP-jet-assignment/physics_scripts/koyang/hdf2root.ipynb#W2sdnNjb2RlLXJlbW90ZQ%3D%3D?line=15'>16</a>\u001b[0m \u001b[39mif\u001b[39;00m os\u001b[39m.\u001b[39mpath\u001b[39m.\u001b[39misfile(f):\n\u001b[1;32m     <a href='vscode-notebook-cell://attached-container%2B7b22636f6e7461696e65724e616d65223a222f4b6f5f48455033222c2273657474696e6773223a7b22686f7374223a227373683a2f2f3134302e3131342e39342e323430227d7d/home/SPANET/HEP-jet-assignment/physics_scripts/koyang/hdf2root.ipynb#W2sdnNjb2RlLXJlbW90ZQ%3D%3D?line=16'>17</a>\u001b[0m     \u001b[39mwith\u001b[39;00m h5py\u001b[39m.\u001b[39mFile(f, \u001b[39m\"\u001b[39m\u001b[39mr\u001b[39m\u001b[39m\"\u001b[39m) \u001b[39mas\u001b[39;00m h5py_file:\n\u001b[0;32m---> <a href='vscode-notebook-cell://attached-container%2B7b22636f6e7461696e65724e616d65223a222f4b6f5f48455033222c2273657474696e6773223a7b22686f7374223a227373683a2f2f3134302e3131342e39342e323430227d7d/home/SPANET/HEP-jet-assignment/physics_scripts/koyang/hdf2root.ipynb#W2sdnNjb2RlLXJlbW90ZQ%3D%3D?line=17'>18</a>\u001b[0m         \u001b[39mif\u001b[39;00m count \u001b[39m==\u001b[39m \u001b[39m0\u001b[39m: h5py_file\u001b[39m.\u001b[39mvisititems(printattr)\n\u001b[1;32m     <a href='vscode-notebook-cell://attached-container%2B7b22636f6e7461696e65724e616d65223a222f4b6f5f48455033222c2273657474696e6773223a7b22686f7374223a227373683a2f2f3134302e3131342e39342e323430227d7d/home/SPANET/HEP-jet-assignment/physics_scripts/koyang/hdf2root.ipynb#W2sdnNjb2RlLXJlbW90ZQ%3D%3D?line=18'>19</a>\u001b[0m         \u001b[39melse\u001b[39;00m: h5py_file\u001b[39m.\u001b[39mvisititems(addattr)\n\u001b[1;32m     <a href='vscode-notebook-cell://attached-container%2B7b22636f6e7461696e65724e616d65223a222f4b6f5f48455033222c2273657474696e6773223a7b22686f7374223a227373683a2f2f3134302e3131342e39342e323430227d7d/home/SPANET/HEP-jet-assignment/physics_scripts/koyang/hdf2root.ipynb#W2sdnNjb2RlLXJlbW90ZQ%3D%3D?line=19'>20</a>\u001b[0m count \u001b[39m+\u001b[39m\u001b[39m=\u001b[39m \u001b[39m1\u001b[39m\n",
      "File \u001b[0;32m/usr/local/lib/python3.8/dist-packages/h5py/_hl/group.py:636\u001b[0m, in \u001b[0;36mGroup.visititems\u001b[0;34m(self, func)\u001b[0m\n\u001b[1;32m    634\u001b[0m     name \u001b[39m=\u001b[39m \u001b[39mself\u001b[39m\u001b[39m.\u001b[39m_d(name)\n\u001b[1;32m    635\u001b[0m     \u001b[39mreturn\u001b[39;00m func(name, \u001b[39mself\u001b[39m[name])\n\u001b[0;32m--> 636\u001b[0m \u001b[39mreturn\u001b[39;00m h5o\u001b[39m.\u001b[39;49mvisit(\u001b[39mself\u001b[39;49m\u001b[39m.\u001b[39;49mid, proxy)\n",
      "File \u001b[0;32mh5py/_objects.pyx:54\u001b[0m, in \u001b[0;36mh5py._objects.with_phil.wrapper\u001b[0;34m()\u001b[0m\n",
      "File \u001b[0;32mh5py/_objects.pyx:55\u001b[0m, in \u001b[0;36mh5py._objects.with_phil.wrapper\u001b[0;34m()\u001b[0m\n",
      "File \u001b[0;32mh5py/h5o.pyx:355\u001b[0m, in \u001b[0;36mh5py.h5o.visit\u001b[0;34m()\u001b[0m\n",
      "File \u001b[0;32mh5py/h5o.pyx:302\u001b[0m, in \u001b[0;36mh5py.h5o.cb_obj_simple\u001b[0;34m()\u001b[0m\n",
      "File \u001b[0;32m/usr/local/lib/python3.8/dist-packages/h5py/_hl/group.py:635\u001b[0m, in \u001b[0;36mGroup.visititems.<locals>.proxy\u001b[0;34m(name)\u001b[0m\n\u001b[1;32m    633\u001b[0m \u001b[39m\"\"\" Use the text name of the object, not bytes \"\"\"\u001b[39;00m\n\u001b[1;32m    634\u001b[0m name \u001b[39m=\u001b[39m \u001b[39mself\u001b[39m\u001b[39m.\u001b[39m_d(name)\n\u001b[0;32m--> 635\u001b[0m \u001b[39mreturn\u001b[39;00m func(name, \u001b[39mself\u001b[39;49m[name])\n",
      "\u001b[1;32m/home/SPANET/HEP-jet-assignment/physics_scripts/koyang/hdf2root.ipynb Cell 2\u001b[0m in \u001b[0;36mprintattr\u001b[0;34m(name, object)\u001b[0m\n\u001b[1;32m      <a href='vscode-notebook-cell://attached-container%2B7b22636f6e7461696e65724e616d65223a222f4b6f5f48455033222c2273657474696e6773223a7b22686f7374223a227373683a2f2f3134302e3131342e39342e323430227d7d/home/SPANET/HEP-jet-assignment/physics_scripts/koyang/hdf2root.ipynb#W2sdnNjb2RlLXJlbW90ZQ%3D%3D?line=4'>5</a>\u001b[0m \u001b[39mdef\u001b[39;00m \u001b[39mprintattr\u001b[39m(name, \u001b[39mobject\u001b[39m):\n\u001b[1;32m      <a href='vscode-notebook-cell://attached-container%2B7b22636f6e7461696e65724e616d65223a222f4b6f5f48455033222c2273657474696e6773223a7b22686f7374223a227373683a2f2f3134302e3131342e39342e323430227d7d/home/SPANET/HEP-jet-assignment/physics_scripts/koyang/hdf2root.ipynb#W2sdnNjb2RlLXJlbW90ZQ%3D%3D?line=5'>6</a>\u001b[0m     \u001b[39mif\u001b[39;00m name \u001b[39mnot\u001b[39;00m \u001b[39min\u001b[39;00m [\u001b[39m\"\u001b[39m\u001b[39mjet_features\u001b[39m\u001b[39m\"\u001b[39m, \u001b[39m\"\u001b[39m\u001b[39mlepton_features\u001b[39m\u001b[39m\"\u001b[39m, \u001b[39m\"\u001b[39m\u001b[39mmet_features\u001b[39m\u001b[39m\"\u001b[39m, \u001b[39m\"\u001b[39m\u001b[39mparton_features\u001b[39m\u001b[39m\"\u001b[39m, \u001b[39m\"\u001b[39m\u001b[39mtarget\u001b[39m\u001b[39m\"\u001b[39m, \u001b[39m\"\u001b[39m\u001b[39mtarget/left_target\u001b[39m\u001b[39m\"\u001b[39m, \u001b[39m\"\u001b[39m\u001b[39mtarget/right_target\u001b[39m\u001b[39m\"\u001b[39m, \u001b[39m\"\u001b[39m\u001b[39mmet_features/sumet\u001b[39m\u001b[39m\"\u001b[39m]:\n\u001b[0;32m----> <a href='vscode-notebook-cell://attached-container%2B7b22636f6e7461696e65724e616d65223a222f4b6f5f48455033222c2273657474696e6773223a7b22686f7374223a227373683a2f2f3134302e3131342e39342e323430227d7d/home/SPANET/HEP-jet-assignment/physics_scripts/koyang/hdf2root.ipynb#W2sdnNjb2RlLXJlbW90ZQ%3D%3D?line=6'>7</a>\u001b[0m         dic[name] \u001b[39m=\u001b[39m \u001b[39mobject\u001b[39;49m[:]\n",
      "File \u001b[0;32mh5py/_objects.pyx:54\u001b[0m, in \u001b[0;36mh5py._objects.with_phil.wrapper\u001b[0;34m()\u001b[0m\n",
      "File \u001b[0;32mh5py/_objects.pyx:55\u001b[0m, in \u001b[0;36mh5py._objects.with_phil.wrapper\u001b[0;34m()\u001b[0m\n",
      "File \u001b[0;32m/usr/local/lib/python3.8/dist-packages/h5py/_hl/group.py:330\u001b[0m, in \u001b[0;36mGroup.__getitem__\u001b[0;34m(self, name)\u001b[0m\n\u001b[1;32m    328\u001b[0m     oid \u001b[39m=\u001b[39m h5o\u001b[39m.\u001b[39mopen(\u001b[39mself\u001b[39m\u001b[39m.\u001b[39mid, \u001b[39mself\u001b[39m\u001b[39m.\u001b[39m_e(name), lapl\u001b[39m=\u001b[39m\u001b[39mself\u001b[39m\u001b[39m.\u001b[39m_lapl)\n\u001b[1;32m    329\u001b[0m \u001b[39melse\u001b[39;00m:\n\u001b[0;32m--> 330\u001b[0m     \u001b[39mraise\u001b[39;00m \u001b[39mTypeError\u001b[39;00m(\u001b[39m\"\u001b[39m\u001b[39mAccessing a group is done with bytes or str, \u001b[39m\u001b[39m\"\u001b[39m\n\u001b[1;32m    331\u001b[0m                     \u001b[39m\"\u001b[39m\u001b[39m not \u001b[39m\u001b[39m{}\u001b[39;00m\u001b[39m\"\u001b[39m\u001b[39m.\u001b[39mformat(\u001b[39mtype\u001b[39m(name)))\n\u001b[1;32m    333\u001b[0m otype \u001b[39m=\u001b[39m h5i\u001b[39m.\u001b[39mget_type(oid)\n\u001b[1;32m    334\u001b[0m \u001b[39mif\u001b[39;00m otype \u001b[39m==\u001b[39m h5i\u001b[39m.\u001b[39mGROUP:\n",
      "\u001b[0;31mTypeError\u001b[0m: Accessing a group is done with bytes or str,  not <class 'slice'>"
     ]
    }
   ],
   "source": [
    "directory = \"./event_record_topMass_lep_incl_CMS_jetR05\" #Directory to load the file\n",
    "\n",
    "dic = {}\n",
    "\n",
    "def printattr(name, object):\n",
    "    if name not in [\"jet_features\", \"lepton_features\", \"met_features\", \"parton_features\", \"target\", \"target/left_target\", \"target/right_target\", \"met_features/sumet\"]:\n",
    "        dic[name] = object[:]\n",
    "\n",
    "def addattr(name, object):\n",
    "    if name not in [\"jet_features\", \"lepton_features\", \"met_features\", \"parton_features\", \"target\", \"target/left_target\", \"target/right_target\", \"met_features/sumet\"]:\n",
    "        dic[name] = np.append(dic[name], object[:], axis=0)\n",
    "\n",
    "count = 0\n",
    "for filename in tqdm(os.listdir(directory)):\n",
    "    f = os.path.join(directory, filename)\n",
    "    if os.path.isfile(f):\n",
    "        with h5py.File(f, \"r\") as h5py_file:\n",
    "            if count == 0: h5py_file.visititems(printattr)\n",
    "            else: h5py_file.visititems(addattr)\n",
    "    count += 1\n",
    "    if count == 100: break"
   ]
  },
  {
   "cell_type": "code",
   "execution_count": 31,
   "metadata": {},
   "outputs": [],
   "source": [
    "root_file = uproot.recreate(directory + \".root\")\n",
    "\n",
    "def writeattr(name):\n",
    "    if name not in [\"jet_features\", \"lepton_features\", \"met_features\", \"parton_features\", \"target\", \"target/left_target\", \"target/right_target\"]:\n",
    "        root_file[name] = ak.from_numpy(dic[name])\n",
    "\n",
    "with h5py.File(f, \"r\") as h5py_file:\n",
    "    h5py_file.visit(writeattr)"
   ]
  },
  {
   "cell_type": "code",
   "execution_count": null,
   "metadata": {},
   "outputs": [],
   "source": []
  }
 ],
 "metadata": {
  "interpreter": {
   "hash": "31f2aee4e71d21fbe5cf8b01ff0e069b9275f58929596ceb00d14d90e3e16cd6"
  },
  "kernelspec": {
   "display_name": "Python 3.8.9 64-bit",
   "language": "python",
   "name": "python3"
  },
  "language_info": {
   "codemirror_mode": {
    "name": "ipython",
    "version": 3
   },
   "file_extension": ".py",
   "mimetype": "text/x-python",
   "name": "python",
   "nbconvert_exporter": "python",
   "pygments_lexer": "ipython3",
   "version": "3.8.10"
  },
  "orig_nbformat": 4
 },
 "nbformat": 4,
 "nbformat_minor": 2
}

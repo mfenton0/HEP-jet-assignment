{
 "cells": [
  {
   "cell_type": "markdown",
   "metadata": {},
   "source": [
    "#If you use vscode\n",
    "\n",
    "!apt install python #To install python\n",
    "\n",
    "Download the vscode extension for python.\n",
    "\n",
    "!apt install pip #To install pip\n",
    "\n",
    "!/usr/bin/python3 -m pip install ipykernel -U --user --force-reinstall #To install ipykernel\n",
    "\n",
    "To reinstall root to import root (current version can't import root), using the guide from https://root.cern/install/#conda\n",
    "\n",
    "!wget https://root.cern/download/root_v6.24.02.Linux-ubuntu20-x86_64-gcc9.3.tar.gz\n",
    "\n",
    "!tar -xzvf root_v6.24.02.Linux-ubuntu20-x86_64-gcc9.3.tar.gz\n",
    "\n",
    "!source root/bin/thisroot.sh\n",
    "\n",
    "!pip3 install h5py\n",
    "\n",
    "!pip3 install matplotlib\n",
    "\n",
    "!pip3 install awkward"
   ]
  },
  {
   "cell_type": "code",
   "execution_count": 28,
   "metadata": {},
   "outputs": [],
   "source": [
    "import uproot\n",
    "import h5py    \n",
    "import numpy as np\n",
    "import awkward as ak\n",
    "from tqdm import tqdm"
   ]
  },
  {
   "cell_type": "code",
   "execution_count": 29,
   "metadata": {},
   "outputs": [
    {
     "name": "stderr",
     "output_type": "stream",
     "text": [
      "  1%|          | 99/8400 [00:03<05:28, 25.30it/s]\n"
     ]
    }
   ],
   "source": [
    "directory = \"../../../Data/train_samples/event_record_top_lep_incl_CMS_jetR05_selected10M_BarcodeFixed\" #Directory to load the file\n",
    "\n",
    "root_file = uproot.recreate(\"./test.root\")\n",
    "dic = {}\n",
    "\n",
    "def printattr(name, object):\n",
    "    if name not in [\"jet_features\", \"lepton_features\", \"met_features\", \"parton_features\", \"target\", \"target/left_target\", \"target/right_target\", \"met_features/sumet\"]:\n",
    "        dic[name] = object[:]\n",
    "\n",
    "def addattr(name, object):\n",
    "    if name not in [\"jet_features\", \"lepton_features\", \"met_features\", \"parton_features\", \"target\", \"target/left_target\", \"target/right_target\", \"met_features/sumet\"]:\n",
    "        dic[name] = np.append(dic[name], object[:], axis=0)\n",
    "\n",
    "count = 0\n",
    "for filename in tqdm(os.listdir(directory)):\n",
    "    f = os.path.join(directory, filename)\n",
    "    if os.path.isfile(f):\n",
    "        with h5py.File(f, \"r\") as h5py_file:\n",
    "            if count == 0: h5py_file.visititems(printattr)\n",
    "            else: h5py_file.visititems(addattr)\n",
    "    count += 1\n",
    "    if count == 100: break"
   ]
  },
  {
   "cell_type": "code",
   "execution_count": 34,
   "metadata": {},
   "outputs": [
    {
     "data": {
      "text/plain": [
       "array([[100.39004517,  85.02440643,  57.66794586,  56.50254059],\n",
       "       [ 93.01254272,  71.43170166,  64.11929321,  43.11697006],\n",
       "       [167.3770752 , 101.99423218,  89.09828949,  80.27468872],\n",
       "       ...,\n",
       "       [118.47750854,  58.10548019,  47.02119827,  41.89131165],\n",
       "       [ 82.4935379 ,  73.31216431,  62.96067429,  34.56496811],\n",
       "       [249.41604614, 225.345047  , 203.66726685, 100.2414093 ]])"
      ]
     },
     "execution_count": 34,
     "metadata": {},
     "output_type": "execute_result"
    }
   ],
   "source": [
    "dic['jet_features/pt'][:, :4]"
   ]
  },
  {
   "cell_type": "code",
   "execution_count": 33,
   "metadata": {},
   "outputs": [
    {
     "data": {
      "text/plain": [
       "11159988"
      ]
     },
     "execution_count": 33,
     "metadata": {},
     "output_type": "execute_result"
    }
   ],
   "source": [
    "132857*84"
   ]
  },
  {
   "cell_type": "code",
   "execution_count": 31,
   "metadata": {},
   "outputs": [],
   "source": [
    "root_file = uproot.recreate(directory + \".root\")\n",
    "\n",
    "def writeattr(name):\n",
    "    if name not in [\"jet_features\", \"lepton_features\", \"met_features\", \"parton_features\", \"target\", \"target/left_target\", \"target/right_target\"]:\n",
    "        root_file[name] = ak.from_numpy(dic[name])\n",
    "\n",
    "with h5py.File(f, \"r\") as h5py_file:\n",
    "    h5py_file.visit(writeattr)"
   ]
  },
  {
   "cell_type": "code",
   "execution_count": null,
   "metadata": {},
   "outputs": [],
   "source": []
  }
 ],
 "metadata": {
  "interpreter": {
   "hash": "31f2aee4e71d21fbe5cf8b01ff0e069b9275f58929596ceb00d14d90e3e16cd6"
  },
  "kernelspec": {
   "display_name": "Python 3.8.9 64-bit",
   "language": "python",
   "name": "python3"
  },
  "language_info": {
   "codemirror_mode": {
    "name": "ipython",
    "version": 3
   },
   "file_extension": ".py",
   "mimetype": "text/x-python",
   "name": "python",
   "nbconvert_exporter": "python",
   "pygments_lexer": "ipython3",
   "version": "3.8.10"
  },
  "orig_nbformat": 4
 },
 "nbformat": 4,
 "nbformat_minor": 2
}

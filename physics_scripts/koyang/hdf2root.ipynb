{
 "cells": [
  {
   "cell_type": "markdown",
   "metadata": {},
   "source": [
    "#If you use vscode\n",
    "\n",
    "!apt install python #To install python\n",
    "\n",
    "Download the vscode extension for python.\n",
    "\n",
    "!apt install pip #To install pip\n",
    "\n",
    "!/usr/bin/python3 -m pip install ipykernel -U --user --force-reinstall #To install ipykernel\n",
    "\n",
    "To reinstall root to import root (current version can't import root), using the guide from https://root.cern/install/#conda\n",
    "\n",
    "!wget https://root.cern/download/root_v6.24.02.Linux-ubuntu20-x86_64-gcc9.3.tar.gz\n",
    "\n",
    "!tar -xzvf root_v6.24.02.Linux-ubuntu20-x86_64-gcc9.3.tar.gz\n",
    "\n",
    "!source root/bin/thisroot.sh\n",
    "\n",
    "!pip3 install h5py\n",
    "\n",
    "!pip3 install matplotlib\n",
    "\n",
    "!pip3 install awkward"
   ]
  },
  {
   "cell_type": "code",
   "execution_count": 2,
   "metadata": {},
   "outputs": [
    {
     "name": "stderr",
     "output_type": "stream",
     "text": [
      "100%|██████████| 200/200 [00:53<00:00,  3.72it/s]\n"
     ]
    }
   ],
   "source": [
    "import uproot\n",
    "import h5py    \n",
    "import numpy as np\n",
    "import awkward as ak\n",
    "from tqdm import tqdm\n",
    "\n",
    "directory = \"../Data/event_record_ttbb_lep_incl_CMS_jetR05_bPt20\" #Directory to load the file\n",
    "\n",
    "root_file = uproot.recreate(\"./test.root\")\n",
    "dic = {}\n",
    "\n",
    "def printattr(name, object):\n",
    "    if name not in [\"jet_features\", \"lepton_features\", \"met_features\", \"parton_features\", \"target\", \"target/left_target\", \"target/right_target\"]:\n",
    "        dic[name] = object[:]\n",
    "\n",
    "def addattr(name, object):\n",
    "    if name not in [\"jet_features\", \"lepton_features\", \"met_features\", \"parton_features\", \"target\", \"target/left_target\", \"target/right_target\"]:\n",
    "        dic[name] = np.append(dic[name], object[:], axis=0)\n",
    "\n",
    "count = 0\n",
    "for filename in os.listdir(directory):\n",
    "    f = os.path.join(directory, filename)\n",
    "    if os.path.isfile(f):\n",
    "        with h5py.File(f, \"r\") as h5py_file:\n",
    "            if count == 0: h5py_file.visititems(printattr)\n",
    "            else: h5py_file.visititems(addattr)\n",
    "    count += 1"
   ]
  },
  {
   "cell_type": "code",
   "execution_count": 4,
   "metadata": {},
   "outputs": [],
   "source": [
    "root_file = uproot.recreate(directory + \".root\")\n",
    "\n",
    "def writeattr(name):\n",
    "    if name not in [\"jet_features\", \"lepton_features\", \"met_features\", \"parton_features\", \"target\", \"target/left_target\", \"target/right_target\"]:\n",
    "        root_file[name] = ak.from_numpy(dic[name])\n",
    "\n",
    "with h5py.File(f, \"r\") as h5py_file:\n",
    "    h5py_file.visit(writeattr)"
   ]
  },
  {
   "cell_type": "code",
   "execution_count": null,
   "metadata": {},
   "outputs": [],
   "source": []
  }
 ],
 "metadata": {
  "interpreter": {
   "hash": "31f2aee4e71d21fbe5cf8b01ff0e069b9275f58929596ceb00d14d90e3e16cd6"
  },
  "kernelspec": {
   "display_name": "Python 3.8.9 64-bit",
   "language": "python",
   "name": "python3"
  },
  "language_info": {
   "codemirror_mode": {
    "name": "ipython",
    "version": 3
   },
   "file_extension": ".py",
   "mimetype": "text/x-python",
   "name": "python",
   "nbconvert_exporter": "python",
   "pygments_lexer": "ipython3",
   "version": "3.8.10"
  },
  "orig_nbformat": 4
 },
 "nbformat": 4,
 "nbformat_minor": 2
}

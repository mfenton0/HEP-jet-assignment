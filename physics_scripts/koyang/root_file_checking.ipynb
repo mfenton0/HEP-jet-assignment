{
 "cells": [
  {
   "cell_type": "code",
   "execution_count": null,
   "metadata": {},
   "outputs": [],
   "source": [
    "import uproot\n",
    "import h5py    \n",
    "import numpy as np\n",
    "import awkward as ak\n",
    "from tqdm import tqdm\n",
    "import h5py\n",
    "import matplotlib.pyplot as plt"
   ]
  },
  {
   "cell_type": "code",
   "execution_count": null,
   "metadata": {},
   "outputs": [],
   "source": [
    "h5py_file = h5py.File(\"../../../Data/validation_samples/ttbar_sm_with_spanet.h5\")\n",
    "root_file = uproot.open(\"../../../Data/root_folder/top_lep_incl_CMS_jetR05_validSample1M_eta2p5_KLFinput.root\")"
   ]
  },
  {
   "cell_type": "code",
   "execution_count": null,
   "metadata": {},
   "outputs": [],
   "source": [
    "def printattr(name, object):\n",
    "    if name not in [\"jet_features\", \"lepton_features\", \"met_features\", \"parton_features\", \"target\", \"target/left_target\", \"target/right_target\"]:\n",
    "        plt.hist(object[:])\n",
    "        plt.title('name')\n",
    "        plt.show()\n",
    "\n",
    "h5py_file.visititems(printattr)"
   ]
  },
  {
   "cell_type": "code",
   "execution_count": 40,
   "metadata": {},
   "outputs": [
    {
     "data": {
      "image/png": "[encoded data removed]",
      "text/plain": [
       "<Figure size 432x288 with 1 Axes>"
      ]
     },
     "metadata": {
      "needs_background": "light"
     },
     "output_type": "display_data"
    }
   ],
   "source": [
    "plt.hist(h5py_file['jet_features/pt'][:, 0], bins=100)\n",
    "plt.show()"
   ]
  },
  {
   "cell_type": "code",
   "execution_count": null,
   "metadata": {},
   "outputs": [],
   "source": [
    "# plt.hist(root_file['nominal;13']['jet_pt'].array(library='np')[:, 0], bins=100)"
   ]
  },
  {
   "cell_type": "code",
   "execution_count": 49,
   "metadata": {},
   "outputs": [
    {
     "data": {
      "text/plain": [
       "array([array([59.44342422, 38.23426056, 33.83644867, 29.5874939 ]),\n",
       "       array([141.21243286,  56.2568512 ,  52.82099533,  35.62149048]),\n",
       "       array([108.10546112,  47.75168228,  46.46722412,  39.52233505,\n",
       "               39.33232498,  36.6549263 ,  29.94833565])             ,\n",
       "       ...,\n",
       "       array([120.48407745, 119.13285828,  66.28715515,  59.03680801,\n",
       "               53.26415253,  41.64266205,  33.39866638])             ,\n",
       "       array([91.47080231, 76.46264648, 46.60315323, 42.2603035 , 38.61726379,\n",
       "              32.95485306])                                                   ,\n",
       "       array([76.29799652, 71.61954498, 50.47967911, 38.61565781])],\n",
       "      dtype=object)"
      ]
     },
     "execution_count": 49,
     "metadata": {},
     "output_type": "execute_result"
    }
   ],
   "source": [
    "root_file['nominal;13']['jet_pt'].array(library='np')"
   ]
  },
  {
   "cell_type": "code",
   "execution_count": 52,
   "metadata": {},
   "outputs": [
    {
     "data": {
      "text/plain": [
       "array([[59.44345 , 59.433296, 55.779785, 34.908783],\n",
       "       [59.443394, 53.68573 , 25.834963, 25.047264],\n",
       "       [59.443478, 45.774616, 44.495945, 32.12128 ],\n",
       "       [59.443367, 56.218372, 34.27118 , 26.051414],\n",
       "       [59.44348 , 40.5932  , 32.181236, 31.485168],\n",
       "       [59.443398, 53.81946 , 51.493645, 35.710438],\n",
       "       [59.44341 , 49.007965, 35.15858 , 34.390938],\n",
       "       [59.44336 , 54.490326, 45.888153, 28.987015],\n",
       "       [59.44337 , 52.690907, 50.114883, 41.129074],\n",
       "       [59.44341 , 58.86501 , 57.472652, 41.270466],\n",
       "       [59.443405, 56.477303, 35.3659  , 34.390156]], dtype=float32)"
      ]
     },
     "execution_count": 52,
     "metadata": {},
     "output_type": "execute_result"
    }
   ],
   "source": [
    "h5py_file['jet_features/pt'][:, :4][np.where(abs(h5py_file['jet_features/pt'][:, 0]-59.44342422) < 0.0001)]"
   ]
  },
  {
   "cell_type": "code",
   "execution_count": null,
   "metadata": {},
   "outputs": [],
   "source": []
  }
 ],
 "metadata": {
  "kernelspec": {
   "display_name": "Python 3.8.10 64-bit",
   "language": "python",
   "name": "python3"
  },
  "language_info": {
   "codemirror_mode": {
    "name": "ipython",
    "version": 3
   },
   "file_extension": ".py",
   "mimetype": "text/x-python",
   "name": "python",
   "nbconvert_exporter": "python",
   "pygments_lexer": "ipython3",
   "version": "3.8.10"
  },
  "orig_nbformat": 4,
  "vscode": {
   "interpreter": {
    "hash": "31f2aee4e71d21fbe5cf8b01ff0e069b9275f58929596ceb00d14d90e3e16cd6"
   }
  }
 },
 "nbformat": 4,
 "nbformat_minor": 2
}

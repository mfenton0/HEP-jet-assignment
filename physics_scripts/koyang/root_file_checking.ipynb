{
 "cells": [
  {
   "cell_type": "code",
   "execution_count": 12,
   "metadata": {},
   "outputs": [],
   "source": [
    "import uproot\n",
    "import h5py    \n",
    "import numpy as np\n",
    "import awkward as ak\n",
    "from tqdm import tqdm\n",
    "import h5py\n",
    "import matplotlib.pyplot as plt"
   ]
  },
  {
   "cell_type": "code",
   "execution_count": 13,
   "metadata": {},
   "outputs": [],
   "source": [
    "h5py_file = h5py.File(\"../../../Data/validation_samples/ttbar_sm_with_spanet.h5\")\n",
    "root_file = uproot.open(\"../../../Data/root_folder/top_lep_incl_CMS_jetR05_validSample1M_eta2p5_KLFinput.root\")"
   ]
  },
  {
   "cell_type": "code",
   "execution_count": 15,
   "metadata": {},
   "outputs": [
    {
     "name": "stdout",
     "output_type": "stream",
     "text": [
      "jet_features/barcode\n",
      "jet_features/btag\n",
      "jet_features/charge\n",
      "jet_features/eta\n",
      "jet_features/event\n",
      "jet_features/mass\n",
      "jet_features/num_of_jets\n",
      "jet_features/phi\n",
      "jet_features/pt\n",
      "lepton_features/charge\n",
      "lepton_features/eta\n",
      "lepton_features/mass\n",
      "lepton_features/phi\n",
      "lepton_features/pid\n",
      "lepton_features/pt\n",
      "met_features/MET\n",
      "met_features/eta\n",
      "met_features/phi\n",
      "met_features/sumet\n",
      "parton_features/eta\n",
      "parton_features/masks\n",
      "parton_features/mass\n",
      "parton_features/parton_barcode\n",
      "parton_features/pdgid\n",
      "parton_features/phi\n",
      "parton_features/pt\n",
      "spanet\n",
      "spanet/left_target\n",
      "spanet/left_target/b\n",
      "spanet/left_target/detection\n",
      "spanet/left_target/mask\n",
      "spanet/right_target\n",
      "spanet/right_target/b\n",
      "spanet/right_target/detection\n",
      "spanet/right_target/mask\n",
      "spanet/right_target/q1\n",
      "spanet/right_target/q2\n",
      "target/left_target/b\n",
      "target/left_target/lepton\n",
      "target/left_target/mask\n",
      "target/left_target/neutrino\n",
      "target/right_target/b\n",
      "target/right_target/mask\n",
      "target/right_target/q1\n",
      "target/right_target/q2\n"
     ]
    }
   ],
   "source": [
    "def printattr(name, object):\n",
    "    if name not in [\"jet_features\", \"lepton_features\", \"met_features\", \"parton_features\", \"target\", \"target/left_target\", \"target/right_target\"]:\n",
    "        print(name)\n",
    "h5py_file.visititems(printattr)"
   ]
  },
  {
   "cell_type": "code",
   "execution_count": 17,
   "metadata": {},
   "outputs": [
    {
     "data": {
      "text/plain": [
       "array([[ 99.099045,  62.469337,  40.673164,  38.347794],\n",
       "       [ 96.416954,  66.09841 ,  56.090305,  40.459457],\n",
       "       [135.29713 , 109.28803 ,  94.31549 ,  69.619934],\n",
       "       ...,\n",
       "       [ 63.196228,  55.148815,  39.16105 ,  37.12708 ],\n",
       "       [162.9937  , 162.92052 , 140.995   ,  34.915867],\n",
       "       [ 80.11824 ,  71.52199 ,  53.012043,  35.666344]], dtype=float32)"
      ]
     },
     "execution_count": 17,
     "metadata": {},
     "output_type": "execute_result"
    }
   ],
   "source": [
    "h5py_file['jet_features/pt'][:, :4]"
   ]
  },
  {
   "cell_type": "code",
   "execution_count": 18,
   "metadata": {},
   "outputs": [
    {
     "data": {
      "text/plain": [
       "(9865402, 15)"
      ]
     },
     "execution_count": 18,
     "metadata": {},
     "output_type": "execute_result"
    }
   ],
   "source": [
    "h5py_file['jet_features/pt'].shape"
   ]
  },
  {
   "cell_type": "code",
   "execution_count": null,
   "metadata": {},
   "outputs": [],
   "source": [
    "# plt.hist(root_file['nominal;13']['jet_pt'].array(library='np')[:, 0], bins=100)"
   ]
  },
  {
   "cell_type": "code",
   "execution_count": 7,
   "metadata": {},
   "outputs": [
    {
     "data": {
      "text/plain": [
       "(1332514,)"
      ]
     },
     "execution_count": 7,
     "metadata": {},
     "output_type": "execute_result"
    }
   ],
   "source": [
    "root_file['nominal;13']['jet_pt'].array(library='np').shape"
   ]
  },
  {
   "cell_type": "code",
   "execution_count": 21,
   "metadata": {},
   "outputs": [
    {
     "data": {
      "text/plain": [
       "array([[167.37712 , 104.36817 ,  69.65388 ,  58.15814 ],\n",
       "       [167.37706 , 147.6051  ,  97.817375,  86.14647 ],\n",
       "       [167.37709 , 131.40535 ,  63.06294 ,  55.853466],\n",
       "       [167.37712 , 100.93464 ,  83.291534,  76.14126 ],\n",
       "       [167.37717 , 114.88479 , 108.38059 ,  44.095634],\n",
       "       [167.3771  ,  79.9418  ,  78.77876 ,  61.325085],\n",
       "       [167.37698 , 152.16266 , 148.64441 , 144.55275 ]], dtype=float32)"
      ]
     },
     "execution_count": 21,
     "metadata": {},
     "output_type": "execute_result"
    }
   ],
   "source": [
    "h5py_file['jet_features/pt'][:, :4][np.where(abs(h5py_file['jet_features/pt'][:, 0]-167.3770752) < 0.0001)]\n"
   ]
  },
  {
   "cell_type": "code",
   "execution_count": null,
   "metadata": {},
   "outputs": [],
   "source": [
    "100.39004517"
   ]
  }
 ],
 "metadata": {
  "kernelspec": {
   "display_name": "Python 3.8.10 64-bit",
   "language": "python",
   "name": "python3"
  },
  "language_info": {
   "codemirror_mode": {
    "name": "ipython",
    "version": 3
   },
   "file_extension": ".py",
   "mimetype": "text/x-python",
   "name": "python",
   "nbconvert_exporter": "python",
   "pygments_lexer": "ipython3",
   "version": "3.8.10"
  },
  "orig_nbformat": 4,
  "vscode": {
   "interpreter": {
    "hash": "31f2aee4e71d21fbe5cf8b01ff0e069b9275f58929596ceb00d14d90e3e16cd6"
   }
  }
 },
 "nbformat": 4,
 "nbformat_minor": 2
}
